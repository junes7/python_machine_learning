{
 "cells": [
  {
   "cell_type": "code",
   "execution_count": 2,
   "id": "broken-improvement",
   "metadata": {},
   "outputs": [
    {
     "data": {
      "text/plain": [
       "RandomForestClassifier(n_estimators=5, random_state=2)"
      ]
     },
     "execution_count": 2,
     "metadata": {},
     "output_type": "execute_result"
    }
   ],
   "source": [
    "from sklearn.ensemble import RandomForestClassifier\n",
    "from sklearn.datasets import make_moons\n",
    "from sklearn.model_selection import train_test_split\n",
    "X, y = make_moons(n_samples=100, noise=0.25, random_state=3)\n",
    "X_train, X_test, y_train, y_test = train_test_split(X, y, stratify=y, random_state=42)\n",
    "forest = RandomForestClassifier(n_estimators=5, random_state=2)\n",
    "forest.fit(X_train, y_train)"
   ]
  },
  {
   "cell_type": "code",
   "execution_count": 5,
   "id": "julian-tunnel",
   "metadata": {},
   "outputs": [
    {
     "data": {
      "text/plain": [
       "[<matplotlib.lines.Line2D at 0x2a0f94d9648>,\n",
       " <matplotlib.lines.Line2D at 0x2a0f94d9c08>]"
      ]
     },
     "execution_count": 5,
     "metadata": {},
     "output_type": "execute_result"
    },
    {
     "data": {
      "image/png": "iVBORw0KGgoAAAANSUhEUgAABG0AAAJACAYAAAA3jJsVAAAAOXRFWHRTb2Z0d2FyZQBNYXRwbG90bGliIHZlcnNpb24zLjMuNCwgaHR0cHM6Ly9tYXRwbG90bGliLm9yZy8QVMy6AAAACXBIWXMAAAsTAAALEwEAmpwYAADie0lEQVR4nOzde3gU5d0+8Hs2CTmHLBIgotKKtqJkE2yBGhQUIdGqtOD7w3IKQhVRe1CDCGJafFPKiwpSSxFpi4CIogIKWiXh7InEEyRBPGFFxUCibM6bkE3m90eyye5md3Z2d2ZnZvf+XJdXcDM78ySbfe6d7zzzPIIoiiAiIiIiIiIiIn0xad0AIiIiIiIiIiLqiUUbIiIiIiIiIiIdYtGGiIiIiIiIiEiHWLQhIiIiIiIiItIhFm2IiIiIiIiIiHSIRRsiIiIiIiIiIh1i0YY0JQhCiiAI33r5b4fTdlM8fH+60/dPCYLwI01+CCIiUg1zgoiIpDAnKNxFa90AingmAH1FUYyT2kgUxecAPOf4f0EQNgFI8rVzQRDOA/AvAAPR8ff+mCiK/w6qxUREFEqq5kTntr8EsB7ANlEU5wbeVCIi0oDa5xPXAPgTgEQA8QDeAvB7U