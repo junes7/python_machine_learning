{
 "cells": [
  {
   "cell_type": "markdown",
   "id": "unauthorized-portable",
   "metadata": {},
   "source": [
    "* 3장에서 cancer 데이터셋을 MinMaxScaler로 전처리를 해서 커널 SVM의 성능을 크게 향상시켰었습니다.다음은 데이터를 분할하고 최솟값, 최댓값을 찾아 데이터의 스케일을 바꾸고 SVM을 훈련시키는 코드입니다.(improve performance of SVM with preprocessing by MinMaxSca"
   ]
  },
  {
   "cell_type": "code",
   "execution_count": 4,
   "id": "offshore-semiconductor",
   "metadata": {},
   "outputs": [
    {
     "name": "stdout",
     "output_type": "stream",
     "text": [
      "테스트 점수: 0.97\n"
     ]
    }
   ],
   "source": [
    "from sklearn.svm import SVC\n",
    "from sklearn.datasets import load_breast_cancer\n",
    "from sklearn.model_selection import train_test_split\n",
    "from sklearn.preprocessing import MinMaxScaler\n",
    "\n",
    "# 데이터 적재와 분할\n",
    "cancer = load_breast_cancer()\n",
    "X_train, X_test, y_train, y_test = train_test_split(\n",
    "    cancer.data, cancer.target, random_state=0)\n",
    "# 훈련 데이터의 최솟값, 최댓값을 계산합니다.\n",
    "scaler = MinMaxScaler().fit(X_train)\n",
    "\n",
    "# 훈련 데이터의 스케일을 조정합니다. \n",
    "X_train_scaled = scaler.transform(X_train)\n",
    "\n",
    "svm = SVC()\n",
    "# 스케일 조정된 훈련데이터에 SVM을 학습시킵니다.\n",
    "svm.fit(X_train_scaled, y_train)\n",
    "# 테스트 데이터의 스케일을 조정하고 점수를 계산합니다.\n",
    "X_test_scaled = scaler.transform(X_test)\n",
    "print(\"테스트 점수: {:.2f}\".format(svm.score(X_test_scaled, y_test)))"
   ]
  }
 ],
 "metadata": {
  "kernelspec": {
   "display_name": "Python 3",
   "language": "python",
   "name": "python3"
  },
  "language_info": {
   "codemirror_mode": {
    "name": "ipython",
    "version": 3
   },
   "file_extension": ".py",
   "mimetype": "text/x-python",
   "name": "python",
   "nbconvert_exporter": "python",
   "pygments_lexer": "ipython3",
   "version": "3.7.6"
  }
 },
 "nbformat": 4,
 "nbformat_minor": 5
}
