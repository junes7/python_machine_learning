{
 "cells": [
  {
   "cell_type": "code",
   "execution_count": 2,
   "id": "representative-association",
   "metadata": {},
   "outputs": [],
   "source": [
    "from sklearn.datasets import load_iris\n",
    "iris_dataset = load_iris()\n",
    "from sklearn.model_selection import train_test_split\n",
    "X_train, X_test, Y_train, Y_test = train_test_split(iris_dataset['data'], iris_dataset['target'], random_state = 0)"
   ]
  },
  {
   "cell_type": "code",
   "execution_count": 3,
   "id": "sophisticated-exposure",
   "metadata": {},
   "outputs": [
    {
     "name": "stdout",
     "output_type": "stream",
     "text": [
      "X_train 크기: (112, 4)\n",
      "Y_train 크기: (112,)\n"
     ]
    }
   ],
   "source": [
    "# trainset(훈련세트)은 전체 150개의 붓꽃 데이터 중에서 112개로 전체 행 중 75%입니다.\n",
    "print(\"X_train 크기:\", X_train.shape)\n",
    "print(\"Y_train 크기:\", Y_train.shape)"
   ]
  },
  {
   "cell_type": "code",
   "execution_count": 4,
   "id": "enhanced-graph",
   "metadata": {},
   "outputs": [
    {
     "name": "stdout",
     "output_type": "stream",
     "text": [
      "X_test 크기: (38, 4)\n",
      "Y_test 크기: (38,)\n"
     ]
    }
   ],
   "source": [
    "# testset(테스트세트)은 전체 150개의 붓꽃 데이터 중에서 38개로 전체 행 중 25%입니다.\n",
    "print(\"X_test 크기:\", X_test.shape)\n",
    "print(\"Y_test 크기:\", Y_test.shape)"
   ]
  },
  {
   "cell_type": "code",
   "execution_count": null,
   "id": "exposed-buffer",
   "metadata": {},
   "outputs": [],
   "source": []
  }
 ],
 "metadata": {
  "kernelspec": {
   "display_name": "Python 3",
   "language": "python",
   "name": "python3"
  },
  "language_info": {
   "codemirror_mode": {
    "name": "ipython",
    "version": 3
   },
   "file_extension": ".py",
   "mimetype": "text/x-python",
   "name": "python",
   "nbconvert_exporter": "python",
   "pygments_lexer": "ipython3",
   "version": "3.7.6"
  }
 },
 "nbformat": 4,
 "nbformat_minor": 5
}
