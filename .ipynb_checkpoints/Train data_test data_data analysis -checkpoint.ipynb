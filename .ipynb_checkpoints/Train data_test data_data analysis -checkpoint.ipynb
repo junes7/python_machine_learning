{
 "cells": [
  {
   "cell_type": "code",
   "execution_count": 2,
   "id": "linear-bristol",
   "metadata": {},
   "outputs": [],
   "source": [
    "from sklearn.datasets import load_iris\n",
    "iris_dataset = load_iris()\n",
    "from sklearn.model_selection import train_test_split\n",
    "X_train, X_test, Y_train, Y_test = train_test_split(iris_dataset['data'], iris_dataset['target'], random_state = 0)"
   ]
  },
  {
   "cell_type": "code",
   "execution_count": 3,
   "id": "matched-parameter",
   "metadata": {},
   "outputs": [
    {
     "name": "stdout",
     "output_type": "stream",
     "text": [
      "X_train 크기: (112, 4)\n",
      "Y_train 크기: (112,)\n"
     ]
    }
   ],
   "source": [
    "print(\"X_train 크기:\", X_train.shape)\n",
    "print(\"Y_train 크기:\", Y_train.shape)"
   ]
  },
  {
   "cell_type": "code",
   "execution_count": null,
   "id": "average-third",
   "metadata": {},
   "outputs": [],
   "source": [
    "print(\"X_test 크기:\", X_test.shape)\n",
    "print(\"Y_test 크기:\", Y_test.shape)"
   ]
  }
 ],
 "metadata": {
  "kernelspec": {
   "display_name": "Python 3",
   "language": "python",
   "name": "python3"
  },
  "language_info": {
   "codemirror_mode": {
    "name": "ipython",
    "version": 3
   },
   "file_extension": ".py",
   "mimetype": "text/x-python",
   "name": "python",
   "nbconvert_exporter": "python",
   "pygments_lexer": "ipython3",
   "version": "3.7.6"
  }
 },
 "nbformat": 4,
 "nbformat_minor": 5
}
