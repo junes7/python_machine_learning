{
 "cells": [
  {
   "cell_type": "code",
   "execution_count": 6,
   "id": "mobile-russian",
   "metadata": {},
   "outputs": [],
   "source": [
    "from preamble import *\n",
    "from sklearn.model_selection import train_test_split\n",
    "from sklearn.datasets import make_moons\n",
    "from sklearn.datasets import load_breast_cancer\n",
    "Xm, ym = make_moons(n_samples=100, noise=0.25, random_state=3)\n",
    "Xm_train, Xm_test, ym_train, ym_test = train_test_split(\n",
    "    Xm, ym, stratify=ym, random_state=42)\n",
    "\n",
    "cancer = load_breast_cancer()\n",
    "Xc_train, Xc_test, yc_train, yc_test = train_test_split(\n",
    "    cancer.data, cancer.target, random_state=0)"
   ]
  },
  {
   "cell_type": "markdown",
   "id": "czech-draft",
   "metadata": {},
   "source": [
    "### 배깅(Bagging)\n",
    "* 배깅을 사용하여 cancer 데이터셋에 로지스틱 회귀 모델을 100개 훈련하여 앙상블해보겠습니다."
   ]
  },
  {
   "cell_type": "code",
   "execution_count": 9,
   "id": "retained-dispatch",
   "metadata": {},
   "outputs": [
    {
     "data": {
      "text/plain": [
       "BaggingClassifier(base_estimator=LogisticRegression(), n_estimators=100,\n",
       "                  n_jobs=-1, oob_score=True, random_state=42)"
      ]
     },
     "execution_count": 9,
     "metadata": {},
     "output_type": "execute_result"
    }
   ],
   "source": [
    "from sklearn.linear_model import LogisticRegression\n",
    "from sklearn.ensemble import BaggingClassifier\n",
    "bagging = BaggingClassifier(LogisticRegression(), n_estimators=100, oob_score=True, n_jobs=-1, random_state=42)\n",
    "bagging.fit(Xc_train, yc_train)"
   ]
  },
  {
   "cell_type": "code",
   "execution_count": 11,
   "id": "beginning-sweden",
   "metadata": {},
   "outputs": [
    {
     "name": "stdout",
     "output_type": "stream",
     "text": [
      "훈련 세트 정확도: 0.953\n",
      "테스트 세트 정확도: 0.951\n",
      "OOB 샘플의 정확도: 0.946\n"
     ]
    }
   ],
   "source": [
    "print(\"훈련 세트 정확도: {:.3f}\".format(bagging.score(Xc_train, yc_train)))\n",
    "print(\"테스트 세트 정확도: {:.3f}\".format(bagging.score(Xc_test, yc_test)))\n",
    "print(\"OOB 샘플의 정확도: {:.3f}\".format(bagging.oob_score_))"
   ]
  },
  {
   "cell_type": "markdown",
   "id": "ceramic-bathroom",
   "metadata": {},
   "source": [
    "* 결정 트리로 배깅을 수행하는 것보다 랜덤 포레스트를 사용하는 것이 편리하지만 여기서는 직접 결정 트리에 배깅을 적용해보겠습니다."
   ]
  },
  {
   "cell_type": "code",
   "execution_count": 12,
   "id": "ruled-hartford",
   "metadata": {},
   "outputs": [
    {
     "data": {
      "text/plain": [
       "BaggingClassifier(base_estimator=DecisionTreeClassifier(), n_estimators=5,\n",
       "                  n_jobs=-1, random_state=42)"
      ]
     },
     "execution_count": 12,
     "metadata": {},
     "output_type": "execute_result"
    }
   ],
   "source": [
    "from sklearn.tree import DecisionTreeClassifier\n",
    "bagging = BaggingClassifier(DecisionTreeClassifier(), n_estimators=5, n_jobs=-1, random_state=42)\n",
    "bagging.fit(Xm_train, ym_train)"
   ]
  },
  {
   "cell_type": "markdown",
   "id": "closing-reynolds",
   "metadata": {},
   "source": [
    "* 랜덤 포레스트에서처럼 이 배경 분류기에 있는 결정 트리의 결정 경계를 시각화해보겠습니다."
   ]
  },
  {
   "cell_type": "code",
   "execution_count": null,
   "id": "neither-retail",
   "metadata": {},
   "outputs": [],
   "source": [
    "fig, axes = plt.subplots(2, 3, figsize=(20, 10))\n",
    "for i, (ax, tree) in enumerate(zip(axes.ravel(), bagging.estimators_)):\n",
    "    ax.set_title(\"트리 {}\".format(i))\n",
    "    mglearn.plots.plot_tree_partition(Xm, ym, tree, ax=ax)\n",
    "mglearn.plots.plot_2d_separator(bagging, Xm, fill=True, ax=axes[-1, -1], alpha=.4)\n",
    "axes[-1, -1].set_title(\"배깅\")\n",
    "mglearn.discrete_scatter(Xm[:, 0], Xm[:, 1], ym)\n",
    "plt.show()"
   ]
  }
 ],
 "metadata": {
  "kernelspec": {
   "display_name": "Python 3",
   "language": "python",
   "name": "python3"
  },
  "language_info": {
   "codemirror_mode": {
    "name": "ipython",
    "version": 3
   },
   "file_extension": ".py",
   "mimetype": "text/x-python",
   "name": "python",
   "nbconvert_exporter": "python",
   "pygments_lexer": "ipython3",
   "version": "3.7.6"
  }
 },
 "nbformat": 4,
 "nbformat_minor": 5
}
