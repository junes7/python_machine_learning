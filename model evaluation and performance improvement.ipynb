{
 "cells": [
  {
   "cell_type": "markdown",
   "id": "raising-setup",
   "metadata": {},
   "source": [
    "## 모델 평가와 성능 향상(model evaluation and performance improvement)"
   ]
  },
  {
   "cell_type": "code",
   "execution_count": 1,
   "id": "comparable-genre",
   "metadata": {},
   "outputs": [
    {
     "name": "stdout",
     "output_type": "stream",
     "text": [
      "테스트 세트 점수: 0.88\n"
     ]
    }
   ],
   "source": [
    "from sklearn.datasets import make_blobs\n",
    "from sklearn.linear_model import LogisticRegression\n",
    "from sklearn.model_selection import train_test_split\n",
    "# 인위적인 데이터셋을 만듭니다.\n",
    "X, y = make_blobs(random_state=0)\n",
    "# 데이터와 타깃 테이블을 훈련 세트와 테스트 세트로 나눕니다.\n",
    "X_train, X_test, y_train, y_test = train_test_split(X, y, random_state=0)\n",
    "# 모델 객체를 만들고 훈련 세트로 학습시킵니다.\n",
    "logreg = LogisticRegression().fit(X_train, y_train)\n",
    "# 모델을 테스트 세트로 평가합니다.\n",
    "print(\"테스트 세트 점수: {:.2f}\".format(logreg.score(X_test, y_test)))"
   ]
  },
  {
   "cell_type": "markdown",
   "id": "wound-aquarium",
   "metadata": {},
   "source": [
    "* 테스트 세트와 훈련 세트로 나눈 인위적인 데이터셋(Artificial dataset which separated by train set and test set)"
   ]
  },
  {
   "cell_type": "markdown",
   "id": "capital-norfolk",
   "metadata": {},
   "source": [
    "### 교차 검증(Cross-Validation)"
   ]
  },
  {
   "cell_type": "code",
   "execution_count": 2,
   "id": "known-award",
   "metadata": {},
   "outputs": [
    {
     "data": {
      "image/png": "[encoded data removed]",
      "text/plain": [
       "<Figure size 864x144 with 1 Axes>"
      ]
     },
     "metadata": {
      "needs_background": "light"
     },
     "output_type": "display_data"
    }
   ],
   "source": [
    "import mglearn\n",
    "mglearn.plots.plot_cross_validation()"
   ]
  },
  {
   "cell_type": "markdown",
   "id": "ready-factor",
   "metadata": {},
   "source": [
    "[5-겹 교차 검증에서의 데이터 분할(Data segmentation of 5-layer cross-validation)]"
   ]
  },
  {
   "cell_type": "markdown",
   "id": "fresh-athens",
   "metadata": {},
   "source": [
    "#### scikit-learn의 교차 검증"
   ]
  },
  {
   "cell_type": "code",
   "execution_count": 2,
   "id": "stunning-spiritual",
   "metadata": {
    "scrolled": true
   },
   "outputs": [
    {
     "name": "stdout",
     "output_type": "stream",
     "text": [
      "교차 검증 점수: [0.96666667 1.         0.93333333 0.96666667 1.        ]\n"
     ]
    },
    {
     "name": "stderr",
     "output_type": "stream",
     "text": [
      "c:\\users\\wnstj\\appdata\\local\\programs\\python\\python37\\lib\\site-packages\\sklearn\\linear_model\\_logistic.py:765: ConvergenceWarning: lbfgs failed to converge (status=1):\n",
      "STOP: TOTAL NO. of ITERATIONS REACHED LIMIT.\n",
      "\n",
      "Increase the number of iterations (max_iter) or scale the data as shown in:\n",
      "    https://scikit-learn.org/stable/modules/preprocessing.html\n",
      "Please also refer to the documentation for alternative solver options:\n",
      "    https://scikit-learn.org/stable/modules/linear_model.html#logistic-regression\n",
      "  extra_warning_msg=_LOGISTIC_SOLVER_CONVERGENCE_MSG)\n"
     ]
    }
   ],
   "source": [
    "from sklearn.model_selection import cross_val_score\n",
    "from sklearn.datasets import load_iris\n",
    "from sklearn.linear_model import LogisticRegression\n",
    "iris = load_iris()\n",
    "logreg = LogisticRegression()\n",
    "scores = cross_val_score(logreg, iris.data, iris.target)\n",
    "print(\"교차 검증 점수:\", scores)"
   ]
  },
  {
   "cell_type": "code",
   "execution_count": 3,
   "id": "coordinated-subcommittee",
   "metadata": {},
   "outputs": [
    {
     "name": "stdout",
     "output_type": "stream",
     "text": [
      "교차 검증 점수: [0.96666667 1.         0.93333333 0.96666667 1.        ]\n"
     ]
    },
    {
     "name": "stderr",
     "output_type": "stream",
     "text": [
      "c:\\users\\wnstj\\appdata\\local\\programs\\python\\python37\\lib\\site-packages\\sklearn\\linear_model\\_logistic.py:765: ConvergenceWarning: lbfgs failed to converge (status=1):\n",
      "STOP: TOTAL NO. of ITERATIONS REACHED LIMIT.\n",
      "\n",
      "Increase the number of iterations (max_iter) or scale the data as shown in:\n",
      "    https://scikit-learn.org/stable/modules/preprocessing.html\n",
      "Please also refer to the documentation for alternative solver options:\n",
      "    https://scikit-learn.org/stable/modules/linear_model.html#logistic-regression\n",
      "  extra_warning_msg=_LOGISTIC_SOLVER_CONVERGENCE_MSG)\n"
     ]
    }
   ],
   "source": [
    "scores = cross_val_score(logreg, iris.data, iris.target, cv=5)\n",
    "print(\"교차 검증 점수:\", scores)"
   ]
  },
  {
   "cell_type": "code",
   "execution_count": 4,
   "id": "generous-serum",
   "metadata": {},
   "outputs": [
    {
     "name": "stdout",
     "output_type": "stream",
     "text": [
      "교차 검증 평균 점수: 0.97\n"
     ]
    }
   ],
   "source": [
    "print(\"교차 검증 평균 점수: {:.2f}\".format(scores.mean()))"
   ]
  }
 ],
 "metadata": {
  "kernelspec": {
   "display_name": "Python 3",
   "language": "python",
   "name": "python3"
  },
  "language_info": {
   "codemirror_mode": {
    "name": "ipython",
    "version": 3
   },
   "file_extension": ".py",
   "mimetype": "text/x-python",
   "name": "python",
   "nbconvert_exporter": "python",
   "pygments_lexer": "ipython3",
   "version": "3.7.6"
  }
 },
 "nbformat": 4,
 "nbformat_minor": 5
}
