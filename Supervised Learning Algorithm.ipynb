{
 "cells": [
  {
   "cell_type": "code",
   "execution_count": 10,
   "id": "patient-western",
   "metadata": {},
   "outputs": [
    {
     "name": "stderr",
     "output_type": "stream",
     "text": [
      "c:\\users\\wnstj\\appdata\\local\\programs\\python\\python37\\lib\\site-packages\\sklearn\\utils\\deprecation.py:86: FutureWarning: Function make_blobs is deprecated; Please import make_blobs directly from scikit-learn\n",
      "  warnings.warn(msg, category=FutureWarning)\n",
      "c:\\users\\wnstj\\appdata\\local\\programs\\python\\python37\\lib\\site-packages\\matplotlib\\backends\\backend_agg.py:238: RuntimeWarning: Glyph 52395 missing from current font.\n",
      "  font.set_text(s, 0.0, flags=flags)\n",
      "c:\\users\\wnstj\\appdata\\local\\programs\\python\\python37\\lib\\site-packages\\matplotlib\\backends\\backend_agg.py:238: RuntimeWarning: Glyph 48264 missing from current font.\n",
      "  font.set_text(s, 0.0, flags=flags)\n"
     ]
    },
    {
     "name": "stdout",
     "output_type": "stream",
     "text": [
      "X.shape: (26, 2)\n"
     ]
    },
    {
     "name": "stderr",
     "output_type": "stream",
     "text": [
      "c:\\users\\wnstj\\appdata\\local\\programs\\python\\python37\\lib\\site-packages\\matplotlib\\backends\\backend_agg.py:238: RuntimeWarning: Glyph 51116 missing from current font.\n",
      "  font.set_text(s, 0.0, flags=flags)\n",
      "c:\\users\\wnstj\\appdata\\local\\programs\\python\\python37\\lib\\site-packages\\matplotlib\\backends\\backend_agg.py:238: RuntimeWarning: Glyph 53945 missing from current font.\n",
      "  font.set_text(s, 0.0, flags=flags)\n",
      "c:\\users\\wnstj\\appdata\\local\\programs\\python\\python37\\lib\\site-packages\\matplotlib\\backends\\backend_agg.py:238: RuntimeWarning: Glyph 49457 missing from current font.\n",
      "  font.set_text(s, 0.0, flags=flags)\n",
      "c:\\users\\wnstj\\appdata\\local\\programs\\python\\python37\\lib\\site-packages\\matplotlib\\backends\\backend_agg.py:238: RuntimeWarning: Glyph 46160 missing from current font.\n",
      "  font.set_text(s, 0.0, flags=flags)\n",
      "c:\\users\\wnstj\\appdata\\local\\programs\\python\\python37\\lib\\site-packages\\matplotlib\\backends\\backend_agg.py:238: RuntimeWarning: Glyph 51704 missing from current font.\n",
      "  font.set_text(s, 0.0, flags=flags)\n",
      "c:\\users\\wnstj\\appdata\\local\\programs\\python\\python37\\lib\\site-packages\\matplotlib\\backends\\backend_agg.py:238: RuntimeWarning: Glyph 53364 missing from current font.\n",
      "  font.set_text(s, 0.0, flags=flags)\n",
      "c:\\users\\wnstj\\appdata\\local\\programs\\python\\python37\\lib\\site-packages\\matplotlib\\backends\\backend_agg.py:238: RuntimeWarning: Glyph 47000 missing from current font.\n",
      "  font.set_text(s, 0.0, flags=flags)\n",
      "c:\\users\\wnstj\\appdata\\local\\programs\\python\\python37\\lib\\site-packages\\matplotlib\\backends\\backend_agg.py:238: RuntimeWarning: Glyph 49828 missing from current font.\n",
      "  font.set_text(s, 0.0, flags=flags)\n",
      "c:\\users\\wnstj\\appdata\\local\\programs\\python\\python37\\lib\\site-packages\\matplotlib\\backends\\backend_agg.py:201: RuntimeWarning: Glyph 52395 missing from current font.\n",
      "  font.set_text(s, 0, flags=flags)\n",
      "c:\\users\\wnstj\\appdata\\local\\programs\\python\\python37\\lib\\site-packages\\matplotlib\\backends\\backend_agg.py:201: RuntimeWarning: Glyph 48264 missing from current font.\n",
      "  font.set_text(s, 0, flags=flags)\n",
      "c:\\users\\wnstj\\appdata\\local\\programs\\python\\python37\\lib\\site-packages\\matplotlib\\backends\\backend_agg.py:201: RuntimeWarning: Glyph 51116 missing from current font.\n",
      "  font.set_text(s, 0, flags=flags)\n",
      "c:\\users\\wnstj\\appdata\\local\\programs\\python\\python37\\lib\\site-packages\\matplotlib\\backends\\backend_agg.py:201: RuntimeWarning: Glyph 53945 missing from current font.\n",
      "  font.set_text(s, 0, flags=flags)\n",
      "c:\\users\\wnstj\\appdata\\local\\programs\\python\\python37\\lib\\site-packages\\matplotlib\\backends\\backend_agg.py:201: RuntimeWarning: Glyph 49457 missing from current font.\n",
      "  font.set_text(s, 0, flags=flags)\n",
      "c:\\users\\wnstj\\appdata\\local\\programs\\python\\python37\\lib\\site-packages\\matplotlib\\backends\\backend_agg.py:201: RuntimeWarning: Glyph 46160 missing from current font.\n",
      "  font.set_text(s, 0, flags=flags)\n",
      "c:\\users\\wnstj\\appdata\\local\\programs\\python\\python37\\lib\\site-packages\\matplotlib\\backends\\backend_agg.py:201: RuntimeWarning: Glyph 51704 missing from current font.\n",
      "  font.set_text(s, 0, flags=flags)\n",
      "c:\\users\\wnstj\\appdata\\local\\programs\\python\\python37\\lib\\site-packages\\matplotlib\\backends\\backend_agg.py:201: RuntimeWarning: Glyph 53364 missing from current font.\n",
      "  font.set_text(s, 0, flags=flags)\n",
      "c:\\users\\wnstj\\appdata\\local\\programs\\python\\python37\\lib\\site-packages\\matplotlib\\backends\\backend_agg.py:201: RuntimeWarning: Glyph 47000 missing from current font.\n",
      "  font.set_text(s, 0, flags=flags)\n",
      "c:\\users\\wnstj\\appdata\\local\\programs\\python\\python37\\lib\\site-packages\\matplotlib\\backends\\backend_agg.py:201: RuntimeWarning: Glyph 49828 missing from current font.\n",
      "  font.set_text(s, 0, flags=flags)\n"
     ]
    },
    {
     "data": {
      "image/png": "[encoded data removed]",
      "text/plain": [
       "<Figure size 432x288 with 1 Axes>"
      ]
     },
     "metadata": {
      "needs_background": "light"
     },
     "output_type": "display_data"
    }
   ],
   "source": [
    "# 라이브러리 임포트\n",
    "from IPython.display import display\n",
    "from sklearn.datasets import make_blobs\n",
    "import numpy as np\n",
    "import matplotlib.pyplot as plt\n",
    "import pandas as pd\n",
    "import mglearn\n",
    "# 폰트 조정\n",
    "import matplotlib\n",
    "matplotlib.rc(\"font\", family=\"NanumGothicCoding\")\n",
    "# 데이터셋을 만듭니다.\n",
    "X, y = mglearn.datasets.make_forge()\n",
    "# 산점도(Scatter plot)를 그립니다.\n",
    "mglearn.discrete_scatter(X[:, 0], X[:, 1], y)\n",
    "plt.legend([\"class 0\", \"class 1\"], loc=4)\n",
    "plt.xlabel(\"첫 번재 특성\")\n",
    "plt.ylabel(\"두 번째 특성\")\n",
    "print(\"X.shape: {}\".format(X.shape))"
   ]
  }
 ],
 "metadata": {
  "kernelspec": {
   "display_name": "Python 3",
   "language": "python",
   "name": "python3"
  },
  "language_info": {
   "codemirror_mode": {
    "name": "ipython",
    "version": 3
   },
   "file_extension": ".py",
   "mimetype": "text/x-python",
   "name": "python",
   "nbconvert_exporter": "python",
   "pygments_lexer": "ipython3",
   "version": "3.7.6"
  }
 },
 "nbformat": 4,
 "nbformat_minor": 5
}
